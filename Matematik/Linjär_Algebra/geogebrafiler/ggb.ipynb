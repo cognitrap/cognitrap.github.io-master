{
 "cells": [
  {
   "cell_type": "markdown",
   "id": "34ca2e91-3428-4194-939b-de33b555426d",
   "metadata": {},
   "source": [
    "##Ett antal geogebrafiler att ladda ner##\n",
    "\n",
    "\n",
    "Geometrisk Lösningstyper utifrån kolonnmatriser(rang)\n",
    "3 linjärt oberoende vektorer"
   ]
  }
 ],
 "metadata": {
  "kernelspec": {
   "display_name": "Python 3 (ipykernel)",
   "language": "python",
   "name": "python3"
  },
  "language_info": {
   "codemirror_mode": {
    "name": "ipython",
    "version": 3
   },
   "file_extension": ".py",
   "mimetype": "text/x-python",
   "name": "python",
   "nbconvert_exporter": "python",
   "pygments_lexer": "ipython3",
   "version": "3.8.12"
  }
 },
 "nbformat": 4,
 "nbformat_minor": 5
}
